{
 "cells": [
  {
   "cell_type": "markdown",
   "metadata": {},
   "source": [
    "# Loading data functions to be used"
   ]
  },
  {
   "cell_type": "code",
   "execution_count": 1,
   "metadata": {},
   "outputs": [],
   "source": [
    "#import libraries\n",
    "import pandas as pd\n",
    "import numpy as np\n",
    "import matplotlib.pyplot as plt\n",
    "import seaborn as sns"
   ]
  },
  {
   "cell_type": "code",
   "execution_count": 50,
   "metadata": {},
   "outputs": [],
   "source": [
    "#import data and make copy - keep original for comparison if necessary\n",
    "\n",
    "raw_data = pd.read_csv('marketing_campaign_dataset.csv')\n",
    "\n",
    "working_copy = raw_data.copy()"
   ]
  },
  {
   "cell_type": "markdown",
   "metadata": {},
   "source": [
    "## Functions to understand data"
   ]
  },
  {
   "cell_type": "code",
   "execution_count": 28,
   "metadata": {},
   "outputs": [],
   "source": [
    "# Functions to understand data\n",
    "\n",
    "# Get shape of df\n",
    "def df_shape(dataframe):\n",
    "    if not dataframe.empty:\n",
    "        shape = dataframe.shape\n",
    "        return f\"Your data frame has the following shape: {shape}\"\n",
    "    else:\n",
    "        return \"Your dataframe does not exist. Check your dataframe variable.\"\n",
    "    \n",
    "#Get columns, data types, and other information\n",
    "def df_info(dataframe):\n",
    "    if not dataframe.empty:\n",
    "        return dataframe.info() \n",
    "    else:\n",
    "        return \"Your dataframe does not exist. Check your dataframe variable.\"\n",
    "    \n",
    "# Get a random sample from the dataframe\n",
    "def df_sample(dataframe):\n",
    "    if not dataframe.empty:\n",
    "        return dataframe.sample(5)\n",
    "    else:\n",
    "        return \"Your dataframe does not exist. Check your dataframe variable.\"\n",
    "    \n",
    "# Unqiue values per column\n",
    "def df_unique(dataframe):\n",
    "    if not dataframe.empty:\n",
    "        return dataframe.nunique()\n",
    "    else:\n",
    "        return \"Your dataframe does not exist. Check your dataframe variable.\"\n",
    "    \n",
    "# Describe numerical columns\n",
    "def describe_numeric(dataframe):\n",
    "    if not dataframe.empty:\n",
    "        return dataframe.describe()\n",
    "    else:\n",
    "        return \"Your dataframe does not exist. Check your dataframe variable.\"\n",
    "    \n",
    "# Describe categorical columns\n",
    "def describe_categorical(dataframe):\n",
    "    if not dataframe.empty:\n",
    "        return dataframe.describe(include='O')\n",
    "    else:\n",
    "        return \"Your dataframe does not exist. Check your dataframe variable.\"\n",
    "    \n",
    "# Check for nulls and percentage of nulls\n",
    "def null_check(dataframe):\n",
    "    if not dataframe.empty:\n",
    "        df_length = len(dataframe)\n",
    "        num_nulls = dataframe.isnull().sum()\n",
    "        percent_null = num_nulls / df_length * 100\n",
    "        if num_nulls.sum() > 0:\n",
    "            return f\"Here are the number and percentage of nulls:\\n{num_nulls}\\n{percent_null}\"\n",
    "        else:\n",
    "            return \"There are no nulls in your dataframe.\"\n",
    "    else:\n",
    "        return \"Your dataframe does not exist. Check your dataframe variable.\"\n",
    "    \n",
    "#check for Duplicates\n",
    "def check_dups(dataframe):\n",
    "    if not dataframe.empty:\n",
    "        num_dups = dataframe.duplicated().sum()\n",
    "        return f\"There are {num_dups} duplicates in your dataframe.\"\n",
    "    else:\n",
    "        return \"Your dataframe does not exist. Check your dataframe variable.\"\n"
   ]
  },
  {
   "cell_type": "markdown",
   "metadata": {},
   "source": [
    "# Exploratory Data Analysis"
   ]
  },
  {
   "cell_type": "markdown",
   "metadata": {},
   "source": [
    "## Understanding Data"
   ]
  },
  {
   "cell_type": "code",
   "execution_count": 7,
   "metadata": {},
   "outputs": [
    {
     "data": {
      "text/plain": [
       "'Your data frame has the following shape: (200000, 16)'"
      ]
     },
     "execution_count": 7,
     "metadata": {},
     "output_type": "execute_result"
    }
   ],
   "source": [
    "#Working with working_copy\n",
    "\n",
    "df_shape(working_copy)"
   ]
  },
  {
   "cell_type": "code",
   "execution_count": 20,
   "metadata": {},
   "outputs": [
    {
     "name": "stdout",
     "output_type": "stream",
     "text": [
      "<class 'pandas.core.frame.DataFrame'>\n",
      "RangeIndex: 200000 entries, 0 to 199999\n",
      "Data columns (total 16 columns):\n",
      " #   Column            Non-Null Count   Dtype  \n",
      "---  ------            --------------   -----  \n",
      " 0   Campaign_ID       200000 non-null  int64  \n",
      " 1   Company           200000 non-null  object \n",
      " 2   Campaign_Type     200000 non-null  object \n",
      " 3   Target_Audience   200000 non-null  object \n",
      " 4   Duration          200000 non-null  object \n",
      " 5   Channel_Used      200000 non-null  object \n",
      " 6   Conversion_Rate   200000 non-null  float64\n",
      " 7   Acquisition_Cost  200000 non-null  object \n",
      " 8   ROI               200000 non-null  float64\n",
      " 9   Location          200000 non-null  object \n",
      " 10  Language          200000 non-null  object \n",
      " 11  Clicks            200000 non-null  int64  \n",
      " 12  Impressions       200000 non-null  int64  \n",
      " 13  Engagement_Score  200000 non-null  int64  \n",
      " 14  Customer_Segment  200000 non-null  object \n",
      " 15  Date              200000 non-null  object \n",
      "dtypes: float64(2), int64(4), object(10)\n",
      "memory usage: 24.4+ MB\n"
     ]
    }
   ],
   "source": [
    "df_info(working_copy)"
   ]
  },
  {
   "cell_type": "code",
   "execution_count": 30,
   "metadata": {},
   "outputs": [
    {
     "data": {
      "text/plain": [
       "Campaign_ID         200000\n",
       "Company                  5\n",
       "Campaign_Type            5\n",
       "Target_Audience          5\n",
       "Duration                 4\n",
       "Channel_Used             6\n",
       "Conversion_Rate         15\n",
       "Acquisition_Cost     15001\n",
       "ROI                    601\n",
       "Location                 5\n",
       "Language                 5\n",
       "Clicks                 901\n",
       "Impressions           9001\n",
       "Engagement_Score        10\n",
       "Customer_Segment         5\n",
       "Date                   365\n",
       "dtype: int64"
      ]
     },
     "execution_count": 30,
     "metadata": {},
     "output_type": "execute_result"
    }
   ],
   "source": [
    "df_unique(working_copy)"
   ]
  },
  {
   "cell_type": "code",
   "execution_count": 21,
   "metadata": {},
   "outputs": [
    {
     "data": {
      "text/html": [
       "<div>\n",
       "<style scoped>\n",
       "    .dataframe tbody tr th:only-of-type {\n",
       "        vertical-align: middle;\n",
       "    }\n",
       "\n",
       "    .dataframe tbody tr th {\n",
       "        vertical-align: top;\n",
       "    }\n",
       "\n",
       "    .dataframe thead th {\n",
       "        text-align: right;\n",
       "    }\n",
       "</style>\n",
       "<table border=\"1\" class=\"dataframe\">\n",
       "  <thead>\n",
       "    <tr style=\"text-align: right;\">\n",
       "      <th></th>\n",
       "      <th>Campaign_ID</th>\n",
       "      <th>Company</th>\n",
       "      <th>Campaign_Type</th>\n",
       "      <th>Target_Audience</th>\n",
       "      <th>Duration</th>\n",
       "      <th>Channel_Used</th>\n",
       "      <th>Conversion_Rate</th>\n",
       "      <th>Acquisition_Cost</th>\n",
       "      <th>ROI</th>\n",
       "      <th>Location</th>\n",
       "      <th>Language</th>\n",
       "      <th>Clicks</th>\n",
       "      <th>Impressions</th>\n",
       "      <th>Engagement_Score</th>\n",
       "      <th>Customer_Segment</th>\n",
       "      <th>Date</th>\n",
       "    </tr>\n",
       "  </thead>\n",
       "  <tbody>\n",
       "    <tr>\n",
       "      <th>94097</th>\n",
       "      <td>94098</td>\n",
       "      <td>TechCorp</td>\n",
       "      <td>Display</td>\n",
       "      <td>All Ages</td>\n",
       "      <td>15 days</td>\n",
       "      <td>Google Ads</td>\n",
       "      <td>0.10</td>\n",
       "      <td>$18,408.00</td>\n",
       "      <td>4.42</td>\n",
       "      <td>Chicago</td>\n",
       "      <td>Mandarin</td>\n",
       "      <td>251</td>\n",
       "      <td>8318</td>\n",
       "      <td>7</td>\n",
       "      <td>Tech Enthusiasts</td>\n",
       "      <td>2021-10-20</td>\n",
       "    </tr>\n",
       "    <tr>\n",
       "      <th>80578</th>\n",
       "      <td>80579</td>\n",
       "      <td>TechCorp</td>\n",
       "      <td>Email</td>\n",
       "      <td>Men 25-34</td>\n",
       "      <td>15 days</td>\n",
       "      <td>Email</td>\n",
       "      <td>0.05</td>\n",
       "      <td>$6,742.00</td>\n",
       "      <td>2.50</td>\n",
       "      <td>Miami</td>\n",
       "      <td>German</td>\n",
       "      <td>355</td>\n",
       "      <td>2615</td>\n",
       "      <td>9</td>\n",
       "      <td>Foodies</td>\n",
       "      <td>2021-10-06</td>\n",
       "    </tr>\n",
       "    <tr>\n",
       "      <th>189342</th>\n",
       "      <td>189343</td>\n",
       "      <td>NexGen Systems</td>\n",
       "      <td>Display</td>\n",
       "      <td>Women 25-34</td>\n",
       "      <td>60 days</td>\n",
       "      <td>YouTube</td>\n",
       "      <td>0.03</td>\n",
       "      <td>$8,185.00</td>\n",
       "      <td>2.84</td>\n",
       "      <td>Los Angeles</td>\n",
       "      <td>English</td>\n",
       "      <td>106</td>\n",
       "      <td>3093</td>\n",
       "      <td>5</td>\n",
       "      <td>Health &amp; Wellness</td>\n",
       "      <td>2021-09-30</td>\n",
       "    </tr>\n",
       "    <tr>\n",
       "      <th>139930</th>\n",
       "      <td>139931</td>\n",
       "      <td>DataTech Solutions</td>\n",
       "      <td>Search</td>\n",
       "      <td>Men 18-24</td>\n",
       "      <td>15 days</td>\n",
       "      <td>Website</td>\n",
       "      <td>0.03</td>\n",
       "      <td>$7,381.00</td>\n",
       "      <td>6.52</td>\n",
       "      <td>Los Angeles</td>\n",
       "      <td>German</td>\n",
       "      <td>683</td>\n",
       "      <td>8377</td>\n",
       "      <td>10</td>\n",
       "      <td>Fashionistas</td>\n",
       "      <td>2021-05-16</td>\n",
       "    </tr>\n",
       "    <tr>\n",
       "      <th>121789</th>\n",
       "      <td>121790</td>\n",
       "      <td>NexGen Systems</td>\n",
       "      <td>Display</td>\n",
       "      <td>Men 18-24</td>\n",
       "      <td>15 days</td>\n",
       "      <td>Website</td>\n",
       "      <td>0.03</td>\n",
       "      <td>$19,471.00</td>\n",
       "      <td>2.08</td>\n",
       "      <td>New York</td>\n",
       "      <td>Spanish</td>\n",
       "      <td>547</td>\n",
       "      <td>6411</td>\n",
       "      <td>3</td>\n",
       "      <td>Outdoor Adventurers</td>\n",
       "      <td>2021-09-02</td>\n",
       "    </tr>\n",
       "  </tbody>\n",
       "</table>\n",
       "</div>"
      ],
      "text/plain": [
       "        Campaign_ID             Company Campaign_Type Target_Audience  \\\n",
       "94097         94098            TechCorp       Display        All Ages   \n",
       "80578         80579            TechCorp         Email       Men 25-34   \n",
       "189342       189343      NexGen Systems       Display     Women 25-34   \n",
       "139930       139931  DataTech Solutions        Search       Men 18-24   \n",
       "121789       121790      NexGen Systems       Display       Men 18-24   \n",
       "\n",
       "       Duration Channel_Used  Conversion_Rate Acquisition_Cost   ROI  \\\n",
       "94097   15 days   Google Ads             0.10       $18,408.00  4.42   \n",
       "80578   15 days        Email             0.05        $6,742.00  2.50   \n",
       "189342  60 days      YouTube             0.03        $8,185.00  2.84   \n",
       "139930  15 days      Website             0.03        $7,381.00  6.52   \n",
       "121789  15 days      Website             0.03       $19,471.00  2.08   \n",
       "\n",
       "           Location  Language  Clicks  Impressions  Engagement_Score  \\\n",
       "94097       Chicago  Mandarin     251         8318                 7   \n",
       "80578         Miami    German     355         2615                 9   \n",
       "189342  Los Angeles   English     106         3093                 5   \n",
       "139930  Los Angeles    German     683         8377                10   \n",
       "121789     New York   Spanish     547         6411                 3   \n",
       "\n",
       "           Customer_Segment        Date  \n",
       "94097      Tech Enthusiasts  2021-10-20  \n",
       "80578               Foodies  2021-10-06  \n",
       "189342    Health & Wellness  2021-09-30  \n",
       "139930         Fashionistas  2021-05-16  \n",
       "121789  Outdoor Adventurers  2021-09-02  "
      ]
     },
     "execution_count": 21,
     "metadata": {},
     "output_type": "execute_result"
    }
   ],
   "source": [
    "df_sample(working_copy)"
   ]
  },
  {
   "cell_type": "code",
   "execution_count": 22,
   "metadata": {},
   "outputs": [
    {
     "data": {
      "text/html": [
       "<div>\n",
       "<style scoped>\n",
       "    .dataframe tbody tr th:only-of-type {\n",
       "        vertical-align: middle;\n",
       "    }\n",
       "\n",
       "    .dataframe tbody tr th {\n",
       "        vertical-align: top;\n",
       "    }\n",
       "\n",
       "    .dataframe thead th {\n",
       "        text-align: right;\n",
       "    }\n",
       "</style>\n",
       "<table border=\"1\" class=\"dataframe\">\n",
       "  <thead>\n",
       "    <tr style=\"text-align: right;\">\n",
       "      <th></th>\n",
       "      <th>Campaign_ID</th>\n",
       "      <th>Conversion_Rate</th>\n",
       "      <th>ROI</th>\n",
       "      <th>Clicks</th>\n",
       "      <th>Impressions</th>\n",
       "      <th>Engagement_Score</th>\n",
       "    </tr>\n",
       "  </thead>\n",
       "  <tbody>\n",
       "    <tr>\n",
       "      <th>count</th>\n",
       "      <td>200000.000000</td>\n",
       "      <td>200000.000000</td>\n",
       "      <td>200000.000000</td>\n",
       "      <td>200000.000000</td>\n",
       "      <td>200000.000000</td>\n",
       "      <td>200000.000000</td>\n",
       "    </tr>\n",
       "    <tr>\n",
       "      <th>mean</th>\n",
       "      <td>100000.500000</td>\n",
       "      <td>0.080070</td>\n",
       "      <td>5.002438</td>\n",
       "      <td>549.772030</td>\n",
       "      <td>5507.301520</td>\n",
       "      <td>5.494710</td>\n",
       "    </tr>\n",
       "    <tr>\n",
       "      <th>std</th>\n",
       "      <td>57735.171256</td>\n",
       "      <td>0.040602</td>\n",
       "      <td>1.734488</td>\n",
       "      <td>260.019056</td>\n",
       "      <td>2596.864286</td>\n",
       "      <td>2.872581</td>\n",
       "    </tr>\n",
       "    <tr>\n",
       "      <th>min</th>\n",
       "      <td>1.000000</td>\n",
       "      <td>0.010000</td>\n",
       "      <td>2.000000</td>\n",
       "      <td>100.000000</td>\n",
       "      <td>1000.000000</td>\n",
       "      <td>1.000000</td>\n",
       "    </tr>\n",
       "    <tr>\n",
       "      <th>25%</th>\n",
       "      <td>50000.750000</td>\n",
       "      <td>0.050000</td>\n",
       "      <td>3.500000</td>\n",
       "      <td>325.000000</td>\n",
       "      <td>3266.000000</td>\n",
       "      <td>3.000000</td>\n",
       "    </tr>\n",
       "    <tr>\n",
       "      <th>50%</th>\n",
       "      <td>100000.500000</td>\n",
       "      <td>0.080000</td>\n",
       "      <td>5.010000</td>\n",
       "      <td>550.000000</td>\n",
       "      <td>5517.500000</td>\n",
       "      <td>5.000000</td>\n",
       "    </tr>\n",
       "    <tr>\n",
       "      <th>75%</th>\n",
       "      <td>150000.250000</td>\n",
       "      <td>0.120000</td>\n",
       "      <td>6.510000</td>\n",
       "      <td>775.000000</td>\n",
       "      <td>7753.000000</td>\n",
       "      <td>8.000000</td>\n",
       "    </tr>\n",
       "    <tr>\n",
       "      <th>max</th>\n",
       "      <td>200000.000000</td>\n",
       "      <td>0.150000</td>\n",
       "      <td>8.000000</td>\n",
       "      <td>1000.000000</td>\n",
       "      <td>10000.000000</td>\n",
       "      <td>10.000000</td>\n",
       "    </tr>\n",
       "  </tbody>\n",
       "</table>\n",
       "</div>"
      ],
      "text/plain": [
       "         Campaign_ID  Conversion_Rate            ROI         Clicks  \\\n",
       "count  200000.000000    200000.000000  200000.000000  200000.000000   \n",
       "mean   100000.500000         0.080070       5.002438     549.772030   \n",
       "std     57735.171256         0.040602       1.734488     260.019056   \n",
       "min         1.000000         0.010000       2.000000     100.000000   \n",
       "25%     50000.750000         0.050000       3.500000     325.000000   \n",
       "50%    100000.500000         0.080000       5.010000     550.000000   \n",
       "75%    150000.250000         0.120000       6.510000     775.000000   \n",
       "max    200000.000000         0.150000       8.000000    1000.000000   \n",
       "\n",
       "         Impressions  Engagement_Score  \n",
       "count  200000.000000     200000.000000  \n",
       "mean     5507.301520          5.494710  \n",
       "std      2596.864286          2.872581  \n",
       "min      1000.000000          1.000000  \n",
       "25%      3266.000000          3.000000  \n",
       "50%      5517.500000          5.000000  \n",
       "75%      7753.000000          8.000000  \n",
       "max     10000.000000         10.000000  "
      ]
     },
     "execution_count": 22,
     "metadata": {},
     "output_type": "execute_result"
    }
   ],
   "source": [
    "describe_numeric(working_copy)"
   ]
  },
  {
   "cell_type": "code",
   "execution_count": 23,
   "metadata": {},
   "outputs": [
    {
     "data": {
      "text/html": [
       "<div>\n",
       "<style scoped>\n",
       "    .dataframe tbody tr th:only-of-type {\n",
       "        vertical-align: middle;\n",
       "    }\n",
       "\n",
       "    .dataframe tbody tr th {\n",
       "        vertical-align: top;\n",
       "    }\n",
       "\n",
       "    .dataframe thead th {\n",
       "        text-align: right;\n",
       "    }\n",
       "</style>\n",
       "<table border=\"1\" class=\"dataframe\">\n",
       "  <thead>\n",
       "    <tr style=\"text-align: right;\">\n",
       "      <th></th>\n",
       "      <th>Company</th>\n",
       "      <th>Campaign_Type</th>\n",
       "      <th>Target_Audience</th>\n",
       "      <th>Duration</th>\n",
       "      <th>Channel_Used</th>\n",
       "      <th>Acquisition_Cost</th>\n",
       "      <th>Location</th>\n",
       "      <th>Language</th>\n",
       "      <th>Customer_Segment</th>\n",
       "      <th>Date</th>\n",
       "    </tr>\n",
       "  </thead>\n",
       "  <tbody>\n",
       "    <tr>\n",
       "      <th>count</th>\n",
       "      <td>200000</td>\n",
       "      <td>200000</td>\n",
       "      <td>200000</td>\n",
       "      <td>200000</td>\n",
       "      <td>200000</td>\n",
       "      <td>200000</td>\n",
       "      <td>200000</td>\n",
       "      <td>200000</td>\n",
       "      <td>200000</td>\n",
       "      <td>200000</td>\n",
       "    </tr>\n",
       "    <tr>\n",
       "      <th>unique</th>\n",
       "      <td>5</td>\n",
       "      <td>5</td>\n",
       "      <td>5</td>\n",
       "      <td>4</td>\n",
       "      <td>6</td>\n",
       "      <td>15001</td>\n",
       "      <td>5</td>\n",
       "      <td>5</td>\n",
       "      <td>5</td>\n",
       "      <td>365</td>\n",
       "    </tr>\n",
       "    <tr>\n",
       "      <th>top</th>\n",
       "      <td>TechCorp</td>\n",
       "      <td>Influencer</td>\n",
       "      <td>Men 18-24</td>\n",
       "      <td>30 days</td>\n",
       "      <td>Email</td>\n",
       "      <td>$16,578.00</td>\n",
       "      <td>Miami</td>\n",
       "      <td>Mandarin</td>\n",
       "      <td>Foodies</td>\n",
       "      <td>2021-01-01</td>\n",
       "    </tr>\n",
       "    <tr>\n",
       "      <th>freq</th>\n",
       "      <td>40237</td>\n",
       "      <td>40169</td>\n",
       "      <td>40258</td>\n",
       "      <td>50255</td>\n",
       "      <td>33599</td>\n",
       "      <td>32</td>\n",
       "      <td>40269</td>\n",
       "      <td>40255</td>\n",
       "      <td>40208</td>\n",
       "      <td>548</td>\n",
       "    </tr>\n",
       "  </tbody>\n",
       "</table>\n",
       "</div>"
      ],
      "text/plain": [
       "         Company Campaign_Type Target_Audience Duration Channel_Used  \\\n",
       "count     200000        200000          200000   200000       200000   \n",
       "unique         5             5               5        4            6   \n",
       "top     TechCorp    Influencer       Men 18-24  30 days        Email   \n",
       "freq       40237         40169           40258    50255        33599   \n",
       "\n",
       "       Acquisition_Cost Location  Language Customer_Segment        Date  \n",
       "count            200000   200000    200000           200000      200000  \n",
       "unique            15001        5         5                5         365  \n",
       "top          $16,578.00    Miami  Mandarin          Foodies  2021-01-01  \n",
       "freq                 32    40269     40255            40208         548  "
      ]
     },
     "execution_count": 23,
     "metadata": {},
     "output_type": "execute_result"
    }
   ],
   "source": [
    "describe_categorical(working_copy)"
   ]
  },
  {
   "cell_type": "code",
   "execution_count": 26,
   "metadata": {},
   "outputs": [
    {
     "data": {
      "text/plain": [
       "'There are no nulls in your dataframe.'"
      ]
     },
     "execution_count": 26,
     "metadata": {},
     "output_type": "execute_result"
    }
   ],
   "source": [
    "null_check(working_copy)"
   ]
  },
  {
   "cell_type": "code",
   "execution_count": 29,
   "metadata": {},
   "outputs": [
    {
     "data": {
      "text/plain": [
       "'There are 0 duplicates in your dataframe.'"
      ]
     },
     "execution_count": 29,
     "metadata": {},
     "output_type": "execute_result"
    }
   ],
   "source": [
    "check_dups(working_copy)"
   ]
  },
  {
   "cell_type": "code",
   "execution_count": 51,
   "metadata": {},
   "outputs": [],
   "source": [
    "#drop campaign ID as it is not required\n",
    "working_copy = working_copy.drop('Campaign_ID', axis=1)"
   ]
  },
  {
   "cell_type": "code",
   "execution_count": 33,
   "metadata": {},
   "outputs": [
    {
     "name": "stdout",
     "output_type": "stream",
     "text": [
      "<class 'pandas.core.frame.DataFrame'>\n",
      "RangeIndex: 200000 entries, 0 to 199999\n",
      "Data columns (total 15 columns):\n",
      " #   Column            Non-Null Count   Dtype  \n",
      "---  ------            --------------   -----  \n",
      " 0   Company           200000 non-null  object \n",
      " 1   Campaign_Type     200000 non-null  object \n",
      " 2   Target_Audience   200000 non-null  object \n",
      " 3   Duration          200000 non-null  object \n",
      " 4   Channel_Used      200000 non-null  object \n",
      " 5   Conversion_Rate   200000 non-null  float64\n",
      " 6   Acquisition_Cost  200000 non-null  object \n",
      " 7   ROI               200000 non-null  float64\n",
      " 8   Location          200000 non-null  object \n",
      " 9   Language          200000 non-null  object \n",
      " 10  Clicks            200000 non-null  int64  \n",
      " 11  Impressions       200000 non-null  int64  \n",
      " 12  Engagement_Score  200000 non-null  int64  \n",
      " 13  Customer_Segment  200000 non-null  object \n",
      " 14  Date              200000 non-null  object \n",
      "dtypes: float64(2), int64(3), object(10)\n",
      "memory usage: 22.9+ MB\n"
     ]
    }
   ],
   "source": [
    "#check work\n",
    "df_info(working_copy)"
   ]
  },
  {
   "cell_type": "code",
   "execution_count": 34,
   "metadata": {},
   "outputs": [
    {
     "data": {
      "text/html": [
       "<div>\n",
       "<style scoped>\n",
       "    .dataframe tbody tr th:only-of-type {\n",
       "        vertical-align: middle;\n",
       "    }\n",
       "\n",
       "    .dataframe tbody tr th {\n",
       "        vertical-align: top;\n",
       "    }\n",
       "\n",
       "    .dataframe thead th {\n",
       "        text-align: right;\n",
       "    }\n",
       "</style>\n",
       "<table border=\"1\" class=\"dataframe\">\n",
       "  <thead>\n",
       "    <tr style=\"text-align: right;\">\n",
       "      <th></th>\n",
       "      <th>Company</th>\n",
       "      <th>Campaign_Type</th>\n",
       "      <th>Target_Audience</th>\n",
       "      <th>Duration</th>\n",
       "      <th>Channel_Used</th>\n",
       "      <th>Conversion_Rate</th>\n",
       "      <th>Acquisition_Cost</th>\n",
       "      <th>ROI</th>\n",
       "      <th>Location</th>\n",
       "      <th>Language</th>\n",
       "      <th>Clicks</th>\n",
       "      <th>Impressions</th>\n",
       "      <th>Engagement_Score</th>\n",
       "      <th>Customer_Segment</th>\n",
       "      <th>Date</th>\n",
       "    </tr>\n",
       "  </thead>\n",
       "  <tbody>\n",
       "    <tr>\n",
       "      <th>65974</th>\n",
       "      <td>Alpha Innovations</td>\n",
       "      <td>Search</td>\n",
       "      <td>Women 25-34</td>\n",
       "      <td>60 days</td>\n",
       "      <td>Instagram</td>\n",
       "      <td>0.08</td>\n",
       "      <td>$9,735.00</td>\n",
       "      <td>5.23</td>\n",
       "      <td>Los Angeles</td>\n",
       "      <td>French</td>\n",
       "      <td>103</td>\n",
       "      <td>8421</td>\n",
       "      <td>5</td>\n",
       "      <td>Outdoor Adventurers</td>\n",
       "      <td>2021-10-02</td>\n",
       "    </tr>\n",
       "    <tr>\n",
       "      <th>79024</th>\n",
       "      <td>Alpha Innovations</td>\n",
       "      <td>Display</td>\n",
       "      <td>All Ages</td>\n",
       "      <td>30 days</td>\n",
       "      <td>Email</td>\n",
       "      <td>0.09</td>\n",
       "      <td>$7,300.00</td>\n",
       "      <td>5.24</td>\n",
       "      <td>Los Angeles</td>\n",
       "      <td>French</td>\n",
       "      <td>246</td>\n",
       "      <td>3877</td>\n",
       "      <td>1</td>\n",
       "      <td>Tech Enthusiasts</td>\n",
       "      <td>2021-07-04</td>\n",
       "    </tr>\n",
       "    <tr>\n",
       "      <th>48453</th>\n",
       "      <td>TechCorp</td>\n",
       "      <td>Search</td>\n",
       "      <td>Men 25-34</td>\n",
       "      <td>60 days</td>\n",
       "      <td>Google Ads</td>\n",
       "      <td>0.04</td>\n",
       "      <td>$5,234.00</td>\n",
       "      <td>7.04</td>\n",
       "      <td>Miami</td>\n",
       "      <td>Mandarin</td>\n",
       "      <td>524</td>\n",
       "      <td>7348</td>\n",
       "      <td>3</td>\n",
       "      <td>Outdoor Adventurers</td>\n",
       "      <td>2021-10-01</td>\n",
       "    </tr>\n",
       "    <tr>\n",
       "      <th>136992</th>\n",
       "      <td>NexGen Systems</td>\n",
       "      <td>Social Media</td>\n",
       "      <td>Women 35-44</td>\n",
       "      <td>60 days</td>\n",
       "      <td>Google Ads</td>\n",
       "      <td>0.15</td>\n",
       "      <td>$8,233.00</td>\n",
       "      <td>3.95</td>\n",
       "      <td>Miami</td>\n",
       "      <td>Spanish</td>\n",
       "      <td>727</td>\n",
       "      <td>7602</td>\n",
       "      <td>10</td>\n",
       "      <td>Tech Enthusiasts</td>\n",
       "      <td>2021-04-28</td>\n",
       "    </tr>\n",
       "    <tr>\n",
       "      <th>118039</th>\n",
       "      <td>TechCorp</td>\n",
       "      <td>Social Media</td>\n",
       "      <td>Women 35-44</td>\n",
       "      <td>45 days</td>\n",
       "      <td>YouTube</td>\n",
       "      <td>0.05</td>\n",
       "      <td>$9,277.00</td>\n",
       "      <td>6.98</td>\n",
       "      <td>New York</td>\n",
       "      <td>German</td>\n",
       "      <td>807</td>\n",
       "      <td>7187</td>\n",
       "      <td>9</td>\n",
       "      <td>Tech Enthusiasts</td>\n",
       "      <td>2021-05-25</td>\n",
       "    </tr>\n",
       "  </tbody>\n",
       "</table>\n",
       "</div>"
      ],
      "text/plain": [
       "                  Company Campaign_Type Target_Audience Duration Channel_Used  \\\n",
       "65974   Alpha Innovations        Search     Women 25-34  60 days    Instagram   \n",
       "79024   Alpha Innovations       Display        All Ages  30 days        Email   \n",
       "48453            TechCorp        Search       Men 25-34  60 days   Google Ads   \n",
       "136992     NexGen Systems  Social Media     Women 35-44  60 days   Google Ads   \n",
       "118039           TechCorp  Social Media     Women 35-44  45 days      YouTube   \n",
       "\n",
       "        Conversion_Rate Acquisition_Cost   ROI     Location  Language  Clicks  \\\n",
       "65974              0.08        $9,735.00  5.23  Los Angeles    French     103   \n",
       "79024              0.09        $7,300.00  5.24  Los Angeles    French     246   \n",
       "48453              0.04        $5,234.00  7.04        Miami  Mandarin     524   \n",
       "136992             0.15        $8,233.00  3.95        Miami   Spanish     727   \n",
       "118039             0.05        $9,277.00  6.98     New York    German     807   \n",
       "\n",
       "        Impressions  Engagement_Score     Customer_Segment        Date  \n",
       "65974          8421                 5  Outdoor Adventurers  2021-10-02  \n",
       "79024          3877                 1     Tech Enthusiasts  2021-07-04  \n",
       "48453          7348                 3  Outdoor Adventurers  2021-10-01  \n",
       "136992         7602                10     Tech Enthusiasts  2021-04-28  \n",
       "118039         7187                 9     Tech Enthusiasts  2021-05-25  "
      ]
     },
     "execution_count": 34,
     "metadata": {},
     "output_type": "execute_result"
    }
   ],
   "source": [
    "df_sample(working_copy)"
   ]
  },
  {
   "cell_type": "code",
   "execution_count": null,
   "metadata": {},
   "outputs": [],
   "source": [
    "# Clean the data a bit before we explore\n",
    "\n",
    "#remove days from duration \n",
    "working_copy['Duration'] = working_copy['Duration'].str.strip('days')\n",
    "\n",
    "#remove $ from aquisition cost\n",
    "working_copy['Acquisition_Cost'] = working_copy['Acquisition_Cost'].str.strip('$', ',')\n"
   ]
  },
  {
   "cell_type": "code",
   "execution_count": 54,
   "metadata": {},
   "outputs": [],
   "source": [
    "#change Duration to Duration(days)  and change acquisition_cost to acquisition_cost($)\n",
    "working_copy = working_copy.rename(columns={'Duration': 'Duration (days)', 'Acquisition_Cost': 'Acquisition_Cost ($)'})"
   ]
  },
  {
   "cell_type": "code",
   "execution_count": 63,
   "metadata": {},
   "outputs": [
    {
     "data": {
      "text/html": [
       "<div>\n",
       "<style scoped>\n",
       "    .dataframe tbody tr th:only-of-type {\n",
       "        vertical-align: middle;\n",
       "    }\n",
       "\n",
       "    .dataframe tbody tr th {\n",
       "        vertical-align: top;\n",
       "    }\n",
       "\n",
       "    .dataframe thead th {\n",
       "        text-align: right;\n",
       "    }\n",
       "</style>\n",
       "<table border=\"1\" class=\"dataframe\">\n",
       "  <thead>\n",
       "    <tr style=\"text-align: right;\">\n",
       "      <th></th>\n",
       "      <th>Company</th>\n",
       "      <th>Campaign_Type</th>\n",
       "      <th>Target_Audience</th>\n",
       "      <th>Duration (days)</th>\n",
       "      <th>Channel_Used</th>\n",
       "      <th>Conversion_Rate</th>\n",
       "      <th>Acquisition_Cost ($)</th>\n",
       "      <th>ROI</th>\n",
       "      <th>Location</th>\n",
       "      <th>Language</th>\n",
       "      <th>Clicks</th>\n",
       "      <th>Impressions</th>\n",
       "      <th>Engagement_Score</th>\n",
       "      <th>Customer_Segment</th>\n",
       "      <th>Date</th>\n",
       "    </tr>\n",
       "  </thead>\n",
       "  <tbody>\n",
       "    <tr>\n",
       "      <th>105270</th>\n",
       "      <td>Innovate Industries</td>\n",
       "      <td>Search</td>\n",
       "      <td>Men 25-34</td>\n",
       "      <td>60</td>\n",
       "      <td>Google Ads</td>\n",
       "      <td>0.11</td>\n",
       "      <td>10,961.00</td>\n",
       "      <td>5.93</td>\n",
       "      <td>Houston</td>\n",
       "      <td>German</td>\n",
       "      <td>716</td>\n",
       "      <td>9339</td>\n",
       "      <td>5</td>\n",
       "      <td>Health &amp; Wellness</td>\n",
       "      <td>2021-05-31</td>\n",
       "    </tr>\n",
       "    <tr>\n",
       "      <th>35303</th>\n",
       "      <td>DataTech Solutions</td>\n",
       "      <td>Social Media</td>\n",
       "      <td>Women 35-44</td>\n",
       "      <td>60</td>\n",
       "      <td>Website</td>\n",
       "      <td>0.08</td>\n",
       "      <td>6,508.00</td>\n",
       "      <td>3.08</td>\n",
       "      <td>Chicago</td>\n",
       "      <td>French</td>\n",
       "      <td>698</td>\n",
       "      <td>8787</td>\n",
       "      <td>4</td>\n",
       "      <td>Fashionistas</td>\n",
       "      <td>2021-09-21</td>\n",
       "    </tr>\n",
       "    <tr>\n",
       "      <th>176572</th>\n",
       "      <td>NexGen Systems</td>\n",
       "      <td>Search</td>\n",
       "      <td>All Ages</td>\n",
       "      <td>30</td>\n",
       "      <td>YouTube</td>\n",
       "      <td>0.10</td>\n",
       "      <td>15,134.00</td>\n",
       "      <td>5.13</td>\n",
       "      <td>Houston</td>\n",
       "      <td>Spanish</td>\n",
       "      <td>937</td>\n",
       "      <td>9165</td>\n",
       "      <td>8</td>\n",
       "      <td>Outdoor Adventurers</td>\n",
       "      <td>2021-10-05</td>\n",
       "    </tr>\n",
       "    <tr>\n",
       "      <th>108803</th>\n",
       "      <td>DataTech Solutions</td>\n",
       "      <td>Display</td>\n",
       "      <td>All Ages</td>\n",
       "      <td>60</td>\n",
       "      <td>Google Ads</td>\n",
       "      <td>0.03</td>\n",
       "      <td>7,393.00</td>\n",
       "      <td>4.30</td>\n",
       "      <td>Miami</td>\n",
       "      <td>Mandarin</td>\n",
       "      <td>891</td>\n",
       "      <td>3760</td>\n",
       "      <td>3</td>\n",
       "      <td>Health &amp; Wellness</td>\n",
       "      <td>2021-02-03</td>\n",
       "    </tr>\n",
       "    <tr>\n",
       "      <th>39859</th>\n",
       "      <td>TechCorp</td>\n",
       "      <td>Influencer</td>\n",
       "      <td>Men 18-24</td>\n",
       "      <td>30</td>\n",
       "      <td>Website</td>\n",
       "      <td>0.10</td>\n",
       "      <td>13,899.00</td>\n",
       "      <td>6.59</td>\n",
       "      <td>Miami</td>\n",
       "      <td>French</td>\n",
       "      <td>420</td>\n",
       "      <td>9427</td>\n",
       "      <td>10</td>\n",
       "      <td>Health &amp; Wellness</td>\n",
       "      <td>2021-03-16</td>\n",
       "    </tr>\n",
       "  </tbody>\n",
       "</table>\n",
       "</div>"
      ],
      "text/plain": [
       "                    Company Campaign_Type Target_Audience  Duration (days)  \\\n",
       "105270  Innovate Industries        Search       Men 25-34               60   \n",
       "35303    DataTech Solutions  Social Media     Women 35-44               60   \n",
       "176572       NexGen Systems        Search        All Ages               30   \n",
       "108803   DataTech Solutions       Display        All Ages               60   \n",
       "39859              TechCorp    Influencer       Men 18-24               30   \n",
       "\n",
       "       Channel_Used  Conversion_Rate Acquisition_Cost ($)   ROI Location  \\\n",
       "105270   Google Ads             0.11            10,961.00  5.93  Houston   \n",
       "35303       Website             0.08             6,508.00  3.08  Chicago   \n",
       "176572      YouTube             0.10            15,134.00  5.13  Houston   \n",
       "108803   Google Ads             0.03             7,393.00  4.30    Miami   \n",
       "39859       Website             0.10            13,899.00  6.59    Miami   \n",
       "\n",
       "        Language  Clicks  Impressions  Engagement_Score     Customer_Segment  \\\n",
       "105270    German     716         9339                 5    Health & Wellness   \n",
       "35303     French     698         8787                 4         Fashionistas   \n",
       "176572   Spanish     937         9165                 8  Outdoor Adventurers   \n",
       "108803  Mandarin     891         3760                 3    Health & Wellness   \n",
       "39859     French     420         9427                10    Health & Wellness   \n",
       "\n",
       "              Date  \n",
       "105270  2021-05-31  \n",
       "35303   2021-09-21  \n",
       "176572  2021-10-05  \n",
       "108803  2021-02-03  \n",
       "39859   2021-03-16  "
      ]
     },
     "execution_count": 63,
     "metadata": {},
     "output_type": "execute_result"
    }
   ],
   "source": [
    "df_sample(working_copy)"
   ]
  },
  {
   "cell_type": "code",
   "execution_count": 56,
   "metadata": {},
   "outputs": [
    {
     "name": "stdout",
     "output_type": "stream",
     "text": [
      "<class 'pandas.core.frame.DataFrame'>\n",
      "RangeIndex: 200000 entries, 0 to 199999\n",
      "Data columns (total 15 columns):\n",
      " #   Column                Non-Null Count   Dtype  \n",
      "---  ------                --------------   -----  \n",
      " 0   Company               200000 non-null  object \n",
      " 1   Campaign_Type         200000 non-null  object \n",
      " 2   Target_Audience       200000 non-null  object \n",
      " 3   Duration (days)       200000 non-null  object \n",
      " 4   Channel_Used          200000 non-null  object \n",
      " 5   Conversion_Rate       200000 non-null  float64\n",
      " 6   Acquisition_Cost ($)  200000 non-null  object \n",
      " 7   ROI                   200000 non-null  float64\n",
      " 8   Location              200000 non-null  object \n",
      " 9   Language              200000 non-null  object \n",
      " 10  Clicks                200000 non-null  int64  \n",
      " 11  Impressions           200000 non-null  int64  \n",
      " 12  Engagement_Score      200000 non-null  int64  \n",
      " 13  Customer_Segment      200000 non-null  object \n",
      " 14  Date                  200000 non-null  object \n",
      "dtypes: float64(2), int64(3), object(10)\n",
      "memory usage: 22.9+ MB\n"
     ]
    }
   ],
   "source": [
    "df_info(working_copy)"
   ]
  },
  {
   "cell_type": "code",
   "execution_count": 59,
   "metadata": {},
   "outputs": [],
   "source": [
    "# change some data types first\n",
    "\n",
    "# Change data type\n",
    "def change_type(dataframe, column, new_type):\n",
    "    if not dataframe.empty:\n",
    "        dataframe[column] = dataframe[column].astype(new_type)\n",
    "    else:\n",
    "        return \"Your dataframe does not exist. Check your dataframe variable.\""
   ]
  },
  {
   "cell_type": "code",
   "execution_count": 67,
   "metadata": {},
   "outputs": [],
   "source": [
    "# change data types for Duration, Acquisition_Cost from Object to Int\n",
    "\n",
    "change_type(working_copy, 'Duration (days)', int)\n",
    "\n",
    "#need to remove ',' and .00 from Acquisition_Cost first\n",
    "\n",
    "working_copy['Acquisition_Cost ($)'] = working_copy['Acquisition_Cost ($)'].str.strip('.00')\n",
    "working_copy['Acquisition_Cost ($)'] = working_copy['Acquisition_Cost ($)'].str.replace(',', '')\n",
    "\n"
   ]
  },
  {
   "cell_type": "code",
   "execution_count": 68,
   "metadata": {},
   "outputs": [],
   "source": [
    "#change datatype to int\n",
    "change_type(working_copy, 'Acquisition_Cost ($)', int)"
   ]
  },
  {
   "cell_type": "code",
   "execution_count": 71,
   "metadata": {},
   "outputs": [
    {
     "data": {
      "text/html": [
       "<div>\n",
       "<style scoped>\n",
       "    .dataframe tbody tr th:only-of-type {\n",
       "        vertical-align: middle;\n",
       "    }\n",
       "\n",
       "    .dataframe tbody tr th {\n",
       "        vertical-align: top;\n",
       "    }\n",
       "\n",
       "    .dataframe thead th {\n",
       "        text-align: right;\n",
       "    }\n",
       "</style>\n",
       "<table border=\"1\" class=\"dataframe\">\n",
       "  <thead>\n",
       "    <tr style=\"text-align: right;\">\n",
       "      <th></th>\n",
       "      <th>Duration (days)</th>\n",
       "      <th>Conversion_Rate</th>\n",
       "      <th>Acquisition_Cost ($)</th>\n",
       "      <th>ROI</th>\n",
       "      <th>Clicks</th>\n",
       "      <th>Impressions</th>\n",
       "      <th>Engagement_Score</th>\n",
       "    </tr>\n",
       "  </thead>\n",
       "  <tbody>\n",
       "    <tr>\n",
       "      <th>count</th>\n",
       "      <td>200000.000000</td>\n",
       "      <td>200000.000000</td>\n",
       "      <td>200000.000000</td>\n",
       "      <td>200000.000000</td>\n",
       "      <td>200000.000000</td>\n",
       "      <td>200000.000000</td>\n",
       "      <td>200000.000000</td>\n",
       "    </tr>\n",
       "    <tr>\n",
       "      <th>mean</th>\n",
       "      <td>37.503975</td>\n",
       "      <td>0.080070</td>\n",
       "      <td>11362.204570</td>\n",
       "      <td>5.002438</td>\n",
       "      <td>549.772030</td>\n",
       "      <td>5507.301520</td>\n",
       "      <td>5.494710</td>\n",
       "    </tr>\n",
       "    <tr>\n",
       "      <th>std</th>\n",
       "      <td>16.746720</td>\n",
       "      <td>0.040602</td>\n",
       "      <td>5348.653249</td>\n",
       "      <td>1.734488</td>\n",
       "      <td>260.019056</td>\n",
       "      <td>2596.864286</td>\n",
       "      <td>2.872581</td>\n",
       "    </tr>\n",
       "    <tr>\n",
       "      <th>min</th>\n",
       "      <td>15.000000</td>\n",
       "      <td>0.010000</td>\n",
       "      <td>1.000000</td>\n",
       "      <td>2.000000</td>\n",
       "      <td>100.000000</td>\n",
       "      <td>1000.000000</td>\n",
       "      <td>1.000000</td>\n",
       "    </tr>\n",
       "    <tr>\n",
       "      <th>25%</th>\n",
       "      <td>30.000000</td>\n",
       "      <td>0.050000</td>\n",
       "      <td>7491.000000</td>\n",
       "      <td>3.500000</td>\n",
       "      <td>325.000000</td>\n",
       "      <td>3266.000000</td>\n",
       "      <td>3.000000</td>\n",
       "    </tr>\n",
       "    <tr>\n",
       "      <th>50%</th>\n",
       "      <td>30.000000</td>\n",
       "      <td>0.080000</td>\n",
       "      <td>11664.000000</td>\n",
       "      <td>5.010000</td>\n",
       "      <td>550.000000</td>\n",
       "      <td>5517.500000</td>\n",
       "      <td>5.000000</td>\n",
       "    </tr>\n",
       "    <tr>\n",
       "      <th>75%</th>\n",
       "      <td>45.000000</td>\n",
       "      <td>0.120000</td>\n",
       "      <td>15841.000000</td>\n",
       "      <td>6.510000</td>\n",
       "      <td>775.000000</td>\n",
       "      <td>7753.000000</td>\n",
       "      <td>8.000000</td>\n",
       "    </tr>\n",
       "    <tr>\n",
       "      <th>max</th>\n",
       "      <td>60.000000</td>\n",
       "      <td>0.150000</td>\n",
       "      <td>19999.000000</td>\n",
       "      <td>8.000000</td>\n",
       "      <td>1000.000000</td>\n",
       "      <td>10000.000000</td>\n",
       "      <td>10.000000</td>\n",
       "    </tr>\n",
       "  </tbody>\n",
       "</table>\n",
       "</div>"
      ],
      "text/plain": [
       "       Duration (days)  Conversion_Rate  Acquisition_Cost ($)            ROI  \\\n",
       "count    200000.000000    200000.000000         200000.000000  200000.000000   \n",
       "mean         37.503975         0.080070          11362.204570       5.002438   \n",
       "std          16.746720         0.040602           5348.653249       1.734488   \n",
       "min          15.000000         0.010000              1.000000       2.000000   \n",
       "25%          30.000000         0.050000           7491.000000       3.500000   \n",
       "50%          30.000000         0.080000          11664.000000       5.010000   \n",
       "75%          45.000000         0.120000          15841.000000       6.510000   \n",
       "max          60.000000         0.150000          19999.000000       8.000000   \n",
       "\n",
       "              Clicks    Impressions  Engagement_Score  \n",
       "count  200000.000000  200000.000000     200000.000000  \n",
       "mean      549.772030    5507.301520          5.494710  \n",
       "std       260.019056    2596.864286          2.872581  \n",
       "min       100.000000    1000.000000          1.000000  \n",
       "25%       325.000000    3266.000000          3.000000  \n",
       "50%       550.000000    5517.500000          5.000000  \n",
       "75%       775.000000    7753.000000          8.000000  \n",
       "max      1000.000000   10000.000000         10.000000  "
      ]
     },
     "execution_count": 71,
     "metadata": {},
     "output_type": "execute_result"
    }
   ],
   "source": [
    "#let's check summary stats again now that we made some changes\n",
    "describe_numeric(working_copy)"
   ]
  },
  {
   "cell_type": "code",
   "execution_count": 72,
   "metadata": {},
   "outputs": [
    {
     "data": {
      "text/plain": [
       "Company                     5\n",
       "Campaign_Type               5\n",
       "Target_Audience             5\n",
       "Duration (days)             4\n",
       "Channel_Used                6\n",
       "Conversion_Rate            15\n",
       "Acquisition_Cost ($)    15001\n",
       "ROI                       601\n",
       "Location                    5\n",
       "Language                    5\n",
       "Clicks                    901\n",
       "Impressions              9001\n",
       "Engagement_Score           10\n",
       "Customer_Segment            5\n",
       "Date                      365\n",
       "dtype: int64"
      ]
     },
     "execution_count": 72,
     "metadata": {},
     "output_type": "execute_result"
    }
   ],
   "source": [
    "df_unique(working_copy)"
   ]
  },
  {
   "cell_type": "code",
   "execution_count": null,
   "metadata": {},
   "outputs": [],
   "source": [
    "#let's explore by company, campaign type, duration, channel, location, language, engaement score, segment counts"
   ]
  },
  {
   "cell_type": "code",
   "execution_count": 107,
   "metadata": {},
   "outputs": [],
   "source": [
    "#funtion to get counts and return df\n",
    "def get_counts(dataframe, column):\n",
    "    return pd.DataFrame(dataframe.groupby(column).size()).rename(columns={0: 'Count'}).reset_index()\n",
    "\n",
    "#make bar chart for counts\n",
    "def make_bars(dataframe, X, Y):\n",
    "    fig = plt.bar(dataframe[X], dataframe[Y])\n",
    "    plt.xticks(rotation=45)\n",
    "    plt.title(f\"{Y} by {X}\")\n",
    "    return fig\n",
    "    "
   ]
  },
  {
   "cell_type": "code",
   "execution_count": 109,
   "metadata": {},
   "outputs": [],
   "source": [
    "#campaigns by company\n",
    "company_count = get_counts(working_copy, 'Company')\n",
    "\n",
    "#campaign types\n",
    "campaign_counts = get_counts(working_copy, 'Campaign_Type')\n",
    "\n",
    "#Duration\n",
    "duration_count = get_counts(working_copy, 'Duration (days)')\n",
    "\n",
    "#channel\n",
    "channel_count = get_counts(working_copy, 'Channel_Used')\n",
    "\n",
    "#location\n",
    "location_count = get_counts(working_copy, 'Location')\n",
    "\n",
    "#langauge\n",
    "language_count = get_counts(working_copy, 'Language')\n",
    "\n",
    "#engagement score\n",
    "engagment_count = get_counts(working_copy, 'Engagement_Score')\n",
    "\n",
    "#Segment\n",
    "segment_count = get_counts(working_copy, 'Customer_Segment')\n"
   ]
  },
  {
   "cell_type": "code",
   "execution_count": 108,
   "metadata": {},
   "outputs": [
    {
     "data": {
      "text/plain": [
       "<BarContainer object of 5 artists>"
      ]
     },
     "execution_count": 108,
     "metadata": {},
     "output_type": "execute_result"
    },
    {
     "data": {
      "image/png": "[encoded data removed]",
      "text/plain": [
       "<Figure size 640x480 with 1 Axes>"
      ]
     },
     "metadata": {},
     "output_type": "display_data"
    }
   ],
   "source": [
    "make_bars(company_count, 'Company', 'Count')"
   ]
  },
  {
   "cell_type": "code",
   "execution_count": 113,
   "metadata": {},
   "outputs": [
    {
     "data": {
      "text/plain": [
       "<BarContainer object of 5 artists>"
      ]
     },
     "execution_count": 113,
     "metadata": {},
     "output_type": "execute_result"
    },
    {
     "data": {
      "image/png": "[encoded data removed]",
      "text/plain": [
       "<Figure size 640x480 with 1 Axes>"
      ]
     },
     "metadata": {},
     "output_type": "display_data"
    }
   ],
   "source": [
    "make_bars(campaign_counts, 'Campaign_Type', 'Count')"
   ]
  },
  {
   "cell_type": "code",
   "execution_count": 114,
   "metadata": {},
   "outputs": [
    {
     "data": {
      "text/plain": [
       "<BarContainer object of 4 artists>"
      ]
     },
     "execution_count": 114,
     "metadata": {},
     "output_type": "execute_result"
    },
    {
     "data": {
      "image/png": "[encoded data removed]",
      "text/plain": [
       "<Figure size 640x480 with 1 Axes>"
      ]
     },
     "metadata": {},
     "output_type": "display_data"
    }
   ],
   "source": [
    "make_bars(duration_count, 'Duration (days)', 'Count')"
   ]
  },
  {
   "cell_type": "code",
   "execution_count": 115,
   "metadata": {},
   "outputs": [
    {
     "data": {
      "text/plain": [
       "<BarContainer object of 6 artists>"
      ]
     },
     "execution_count": 115,
     "metadata": {},
     "output_type": "execute_result"
    },
    {
     "data": {
      "image/png": "[encoded data removed]",
      "text/plain": [
       "<Figure size 640x480 with 1 Axes>"
      ]
     },
     "metadata": {},
     "output_type": "display_data"
    }
   ],
   "source": [
    "make_bars(channel_count, 'Channel_Used', 'Count')"
   ]
  },
  {
   "cell_type": "code",
   "execution_count": 116,
   "metadata": {},
   "outputs": [
    {
     "data": {
      "text/plain": [
       "<BarContainer object of 5 artists>"
      ]
     },
     "execution_count": 116,
     "metadata": {},
     "output_type": "execute_result"
    },
    {
     "data": {
      "image/png": "[encoded data removed]",
      "text/plain": [
       "<Figure size 640x480 with 1 Axes>"
      ]
     },
     "metadata": {},
     "output_type": "display_data"
    }
   ],
   "source": [
    "#language, location, engaement, segment\n",
    "make_bars(language_count, 'Language', 'Count')"
   ]
  },
  {
   "cell_type": "code",
   "execution_count": 117,
   "metadata": {},
   "outputs": [
    {
     "data": {
      "text/plain": [
       "<BarContainer object of 5 artists>"
      ]
     },
     "execution_count": 117,
     "metadata": {},
     "output_type": "execute_result"
    },
    {
     "data": {
      "image/png": "[encoded data removed]",
      "text/plain": [
       "<Figure size 640x480 with 1 Axes>"
      ]
     },
     "metadata": {},
     "output_type": "display_data"
    }
   ],
   "source": [
    "make_bars(location_count, 'Location', 'Count')"
   ]
  },
  {
   "cell_type": "code",
   "execution_count": 118,
   "metadata": {},
   "outputs": [
    {
     "data": {
      "text/plain": [
       "<BarContainer object of 10 artists>"
      ]
     },
     "execution_count": 118,
     "metadata": {},
     "output_type": "execute_result"
    },
    {
     "data": {
      "image/png": "[encoded data removed]",
      "text/plain": [
       "<Figure size 640x480 with 1 Axes>"
      ]
     },
     "metadata": {},
     "output_type": "display_data"
    }
   ],
   "source": [
    "make_bars(engagment_count, 'Engagement_Score', 'Count')"
   ]
  },
  {
   "cell_type": "code",
   "execution_count": 119,
   "metadata": {},
   "outputs": [
    {
     "data": {
      "text/plain": [
       "<BarContainer object of 5 artists>"
      ]
     },
     "execution_count": 119,
     "metadata": {},
     "output_type": "execute_result"
    },
    {
     "data": {
      "image/png": "[encoded data removed]",
      "text/plain": [
       "<Figure size 640x480 with 1 Axes>"
      ]
     },
     "metadata": {},
     "output_type": "display_data"
    }
   ],
   "source": [
    "make_bars(segment_count, 'Customer_Segment', 'Count')"
   ]
  },
  {
   "cell_type": "markdown",
   "metadata": {},
   "source": [
    "Well, there appears to be a relatively even distribution among some of the features. Let's explore the by company"
   ]
  },
  {
   "cell_type": "markdown",
   "metadata": {},
   "source": [
    "Alpha Innovations, DataTech Solutions, Innovate Industries, NexGen Systems, TechCorp"
   ]
  },
  {
   "cell_type": "code",
   "execution_count": 120,
   "metadata": {},
   "outputs": [
    {
     "data": {
      "text/plain": [
       "<pandas.core.groupby.generic.DataFrameGroupBy object at 0x7f0c72c9edd0>"
      ]
     },
     "execution_count": 120,
     "metadata": {},
     "output_type": "execute_result"
    }
   ],
   "source": [
    "#make new df based on company only"
   ]
  }
 ],
 "metadata": {
  "kernelspec": {
   "display_name": "base",
   "language": "python",
   "name": "python3"
  },
  "language_info": {
   "codemirror_mode": {
    "name": "ipython",
    "version": 3
   },
   "file_extension": ".py",
   "mimetype": "text/x-python",
   "name": "python",
   "nbconvert_exporter": "python",
   "pygments_lexer": "ipython3",
   "version": "3.11.5"
  },
  "orig_nbformat": 4
 },
 "nbformat": 4,
 "nbformat_minor": 2
}
